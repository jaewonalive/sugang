{
  "nbformat": 4,
  "nbformat_minor": 0,
  "metadata": {
    "colab": {
      "name": "Untitled12.ipynb",
      "provenance": [],
      "collapsed_sections": []
    },
    "kernelspec": {
      "name": "python3",
      "display_name": "Python 3"
    }
  },
  "cells": [
    {
      "cell_type": "code",
      "metadata": {
        "id": "sFlj8xJj-spq",
        "colab_type": "code",
        "colab": {
          "base_uri": "https://localhost:8080/",
          "height": 34
        },
        "outputId": "cb5e066c-b1dc-419d-afb1-d7a4ed925b93"
      },
      "source": [
        "from google.colab import drive\n",
        "drive.mount('/content/drive')"
      ],
      "execution_count": 51,
      "outputs": [
        {
          "output_type": "stream",
          "text": [
            "Drive already mounted at /content/drive; to attempt to forcibly remount, call drive.mount(\"/content/drive\", force_remount=True).\n"
          ],
          "name": "stdout"
        }
      ]
    },
    {
      "cell_type": "code",
      "metadata": {
        "id": "lwclDA9h_JcK",
        "colab_type": "code",
        "colab": {
          "base_uri": "https://localhost:8080/",
          "height": 34
        },
        "outputId": "867e6ccb-70fe-4c85-dd9b-f1a353eab782"
      },
      "source": [
        "%cd /content/drive/My Drive/data"
      ],
      "execution_count": 52,
      "outputs": [
        {
          "output_type": "stream",
          "text": [
            "/content/drive/My Drive/data\n"
          ],
          "name": "stdout"
        }
      ]
    },
    {
      "cell_type": "code",
      "metadata": {
        "id": "EtntEFC__SzA",
        "colab_type": "code",
        "colab": {}
      },
      "source": [
        "import pandas as pd\n",
        "import numpy as np\n",
        "import matplotlib.pyplot as plt\n",
        "import seaborn as sns"
      ],
      "execution_count": 0,
      "outputs": []
    },
    {
      "cell_type": "markdown",
      "metadata": {
        "id": "Ve2pZwUDpUWc",
        "colab_type": "text"
      },
      "source": [
        "## matplotlib 한글 폰트 깨짐 현상 해결"
      ]
    },
    {
      "cell_type": "code",
      "metadata": {
        "id": "-7hMWE1K_ZGV",
        "colab_type": "code",
        "colab": {
          "base_uri": "https://localhost:8080/",
          "height": 105
        },
        "outputId": "114963ab-ea94-46f9-b4bc-bb1b42be0fc4"
      },
      "source": [
        "import matplotlib as mpl\n",
        "\n",
        " \n",
        "%config InlineBackend.figure_format = 'retina'\n",
        " \n",
        "!apt -qq -y install fonts-nanum\n",
        " \n",
        "import matplotlib.font_manager as fm\n",
        "fontpath = '/usr/share/fonts/truetype/nanum/NanumBarunGothic.ttf'\n",
        "font = fm.FontProperties(fname=fontpath, size=9)\n",
        "plt.rc('font', family='NanumBarunGothic') \n",
        "mpl.font_manager._rebuild()\n"
      ],
      "execution_count": 9,
      "outputs": [
        {
          "output_type": "stream",
          "text": [
            "fonts-nanum is already the newest version (20170925-1).\n",
            "The following package was automatically installed and is no longer required:\n",
            "  libnvidia-common-430\n",
            "Use 'apt autoremove' to remove it.\n",
            "0 upgraded, 0 newly installed, 0 to remove and 25 not upgraded.\n"
          ],
          "name": "stdout"
        }
      ]
    },
    {
      "cell_type": "markdown",
      "metadata": {
        "id": "V7m6CE5UT_wn",
        "colab_type": "text"
      },
      "source": [
        "# 데이터 불러오기"
      ]
    },
    {
      "cell_type": "code",
      "metadata": {
        "id": "zj9NVpa6_kek",
        "colab_type": "code",
        "colab": {
          "base_uri": "https://localhost:8080/",
          "height": 1000
        },
        "outputId": "053c8b36-a908-49c8-f62b-1b1d24a8e478"
      },
      "source": [
        "data = pd.read_csv(\"네이비즘서버시간이용자수데이터.csv\", encoding = 'euc-kr')\n",
        "data['시기+날짜'] = data['시기'] + ' (' + data['날짜'] + ')'\n",
        "data"
      ],
      "execution_count": 80,
      "outputs": [
        {
          "output_type": "execute_result",
          "data": {
            "text/html": [
              "<div>\n",
              "<style scoped>\n",
              "    .dataframe tbody tr th:only-of-type {\n",
              "        vertical-align: middle;\n",
              "    }\n",
              "\n",
              "    .dataframe tbody tr th {\n",
              "        vertical-align: top;\n",
              "    }\n",
              "\n",
              "    .dataframe thead th {\n",
              "        text-align: right;\n",
              "    }\n",
              "</style>\n",
              "<table border=\"1\" class=\"dataframe\">\n",
              "  <thead>\n",
              "    <tr style=\"text-align: right;\">\n",
              "      <th></th>\n",
              "      <th>날짜</th>\n",
              "      <th>서버시간hits수</th>\n",
              "      <th>종류</th>\n",
              "      <th>시기</th>\n",
              "      <th>설명</th>\n",
              "      <th>학교</th>\n",
              "      <th>시기+날짜</th>\n",
              "    </tr>\n",
              "  </thead>\n",
              "  <tbody>\n",
              "    <tr>\n",
              "      <th>0</th>\n",
              "      <td>2019-02-19</td>\n",
              "      <td>12686</td>\n",
              "      <td>4학년 수강신청</td>\n",
              "      <td>2019년도 1학기</td>\n",
              "      <td>2019년도 1학기 4학년 수강신청</td>\n",
              "      <td>고려대</td>\n",
              "      <td>2019년도 1학기 (2019-02-19)</td>\n",
              "    </tr>\n",
              "    <tr>\n",
              "      <th>1</th>\n",
              "      <td>2019-02-20</td>\n",
              "      <td>22754</td>\n",
              "      <td>3학년 수강신청</td>\n",
              "      <td>2019년도 1학기</td>\n",
              "      <td>2019년도 1학기 3학년 수강신청</td>\n",
              "      <td>고려대</td>\n",
              "      <td>2019년도 1학기 (2019-02-20)</td>\n",
              "    </tr>\n",
              "    <tr>\n",
              "      <th>2</th>\n",
              "      <td>2019-02-21</td>\n",
              "      <td>32344</td>\n",
              "      <td>2학년 수강신청</td>\n",
              "      <td>2019년도 1학기</td>\n",
              "      <td>2019년도 1학기 2학년 수강신청</td>\n",
              "      <td>고려대</td>\n",
              "      <td>2019년도 1학기 (2019-02-21)</td>\n",
              "    </tr>\n",
              "    <tr>\n",
              "      <th>3</th>\n",
              "      <td>2019-02-22</td>\n",
              "      <td>1975</td>\n",
              "      <td>1학년 수강신청</td>\n",
              "      <td>2019년도 1학기</td>\n",
              "      <td>2019년도 1학기 1학년 수강신청</td>\n",
              "      <td>고려대</td>\n",
              "      <td>2019년도 1학기 (2019-02-22)</td>\n",
              "    </tr>\n",
              "    <tr>\n",
              "      <th>4</th>\n",
              "      <td>2019-03-06</td>\n",
              "      <td>13125</td>\n",
              "      <td>3,4 학년 수강신청 정정</td>\n",
              "      <td>2019년도 1학기</td>\n",
              "      <td>2019년도 1학기 3,4학년 수강신청 정정</td>\n",
              "      <td>고려대</td>\n",
              "      <td>2019년도 1학기 (2019-03-06)</td>\n",
              "    </tr>\n",
              "    <tr>\n",
              "      <th>5</th>\n",
              "      <td>2019-03-07</td>\n",
              "      <td>22943</td>\n",
              "      <td>1,2학년 수강신청 정정</td>\n",
              "      <td>2019년도 1학기</td>\n",
              "      <td>2019년도 1학기 1,2학년 수강신청 정정</td>\n",
              "      <td>고려대</td>\n",
              "      <td>2019년도 1학기 (2019-03-07)</td>\n",
              "    </tr>\n",
              "    <tr>\n",
              "      <th>6</th>\n",
              "      <td>2019-03-08</td>\n",
              "      <td>32429</td>\n",
              "      <td>전체학년 수강신청 정정</td>\n",
              "      <td>2019년도 1학기</td>\n",
              "      <td>2019년도 1학기 전체학년 수강신청 정정</td>\n",
              "      <td>고려대</td>\n",
              "      <td>2019년도 1학기 (2019-03-08)</td>\n",
              "    </tr>\n",
              "    <tr>\n",
              "      <th>7</th>\n",
              "      <td>2019-08-16</td>\n",
              "      <td>11659</td>\n",
              "      <td>4학년 수강신청</td>\n",
              "      <td>2019년도 2학기</td>\n",
              "      <td>2019년도 2학기 4학년 수강신청</td>\n",
              "      <td>고려대</td>\n",
              "      <td>2019년도 2학기 (2019-08-16)</td>\n",
              "    </tr>\n",
              "    <tr>\n",
              "      <th>8</th>\n",
              "      <td>2019-08-19</td>\n",
              "      <td>24316</td>\n",
              "      <td>3학년 수강신청</td>\n",
              "      <td>2019년도 2학기</td>\n",
              "      <td>2019년도 2학기 3학년 수강신청</td>\n",
              "      <td>고려대</td>\n",
              "      <td>2019년도 2학기 (2019-08-19)</td>\n",
              "    </tr>\n",
              "    <tr>\n",
              "      <th>9</th>\n",
              "      <td>2019-08-20</td>\n",
              "      <td>30784</td>\n",
              "      <td>2학년 수강신청</td>\n",
              "      <td>2019년도 2학기</td>\n",
              "      <td>2019년도 2학기 2학년 수강신청</td>\n",
              "      <td>고려대</td>\n",
              "      <td>2019년도 2학기 (2019-08-20)</td>\n",
              "    </tr>\n",
              "    <tr>\n",
              "      <th>10</th>\n",
              "      <td>2019-08-21</td>\n",
              "      <td>27870</td>\n",
              "      <td>1학년 수강신청</td>\n",
              "      <td>2019년도 2학기</td>\n",
              "      <td>2019년도 2학기 1학년 수강신청</td>\n",
              "      <td>고려대</td>\n",
              "      <td>2019년도 2학기 (2019-08-21)</td>\n",
              "    </tr>\n",
              "    <tr>\n",
              "      <th>11</th>\n",
              "      <td>2019-09-08</td>\n",
              "      <td>13003</td>\n",
              "      <td>3,4 학년 수강신청 정정</td>\n",
              "      <td>2019년도 2학기</td>\n",
              "      <td>2019년도 2학기 3,4 학년 수강신청 정정</td>\n",
              "      <td>고려대</td>\n",
              "      <td>2019년도 2학기 (2019-09-08)</td>\n",
              "    </tr>\n",
              "    <tr>\n",
              "      <th>12</th>\n",
              "      <td>2019-09-09</td>\n",
              "      <td>23679</td>\n",
              "      <td>1,2학년 수강신청 정정</td>\n",
              "      <td>2019년도 2학기</td>\n",
              "      <td>2019년도 2학기 1,2학년 수강신청 정정</td>\n",
              "      <td>고려대</td>\n",
              "      <td>2019년도 2학기 (2019-09-09)</td>\n",
              "    </tr>\n",
              "    <tr>\n",
              "      <th>13</th>\n",
              "      <td>2019-09-10</td>\n",
              "      <td>33551</td>\n",
              "      <td>전체학년 수강신청 정정</td>\n",
              "      <td>2019년도 2학기</td>\n",
              "      <td>2019년도 2학기 전체학년 수강신청 정정</td>\n",
              "      <td>고려대</td>\n",
              "      <td>2019년도 2학기 (2019-09-10)</td>\n",
              "    </tr>\n",
              "    <tr>\n",
              "      <th>14</th>\n",
              "      <td>2020-02-18</td>\n",
              "      <td>43348</td>\n",
              "      <td>4학년 수강신청</td>\n",
              "      <td>2020년도 1학기</td>\n",
              "      <td>2020년도 1학기 4학년 수강신청</td>\n",
              "      <td>고려대</td>\n",
              "      <td>2020년도 1학기 (2020-02-18)</td>\n",
              "    </tr>\n",
              "    <tr>\n",
              "      <th>15</th>\n",
              "      <td>2019-02-11</td>\n",
              "      <td>811</td>\n",
              "      <td>2학년 이상 수강신청</td>\n",
              "      <td>2019년도 1학기</td>\n",
              "      <td>2019년도 1학기 2학년 이상 수강신청</td>\n",
              "      <td>연세대</td>\n",
              "      <td>2019년도 1학기 (2019-02-11)</td>\n",
              "    </tr>\n",
              "    <tr>\n",
              "      <th>16</th>\n",
              "      <td>2019-02-14</td>\n",
              "      <td>9005</td>\n",
              "      <td>추가 수강신청</td>\n",
              "      <td>2019년도 1학기</td>\n",
              "      <td>2019년도 1학기 추가 수강신청</td>\n",
              "      <td>연세대</td>\n",
              "      <td>2019년도 1학기 (2019-02-14)</td>\n",
              "    </tr>\n",
              "    <tr>\n",
              "      <th>17</th>\n",
              "      <td>2019-02-26</td>\n",
              "      <td>18336</td>\n",
              "      <td>신입생 및 1학년 수강신청</td>\n",
              "      <td>2019년도 1학기</td>\n",
              "      <td>2019년도 1학기 신입생 및 1학년 수강신청</td>\n",
              "      <td>연세대</td>\n",
              "      <td>2019년도 1학기 (2019-02-26)</td>\n",
              "    </tr>\n",
              "    <tr>\n",
              "      <th>18</th>\n",
              "      <td>2019-08-07</td>\n",
              "      <td>1415</td>\n",
              "      <td>2학년 이상 수강신청</td>\n",
              "      <td>2019년도 2학기</td>\n",
              "      <td>2019년도 2학기 2학년 이상 수강신청</td>\n",
              "      <td>연세대</td>\n",
              "      <td>2019년도 2학기 (2019-08-07)</td>\n",
              "    </tr>\n",
              "    <tr>\n",
              "      <th>19</th>\n",
              "      <td>2019-08-12</td>\n",
              "      <td>8896</td>\n",
              "      <td>추가 수강신청</td>\n",
              "      <td>2019년도 2학기</td>\n",
              "      <td>2019년도 2학기 추가 수강신청</td>\n",
              "      <td>연세대</td>\n",
              "      <td>2019년도 2학기 (2019-08-12)</td>\n",
              "    </tr>\n",
              "    <tr>\n",
              "      <th>20</th>\n",
              "      <td>2019-08-27</td>\n",
              "      <td>21772</td>\n",
              "      <td>신입생 및 1학년 수강신청</td>\n",
              "      <td>2019년도 2학기</td>\n",
              "      <td>2019년도 1학기 신입생 및 1학년 수강신청</td>\n",
              "      <td>연세대</td>\n",
              "      <td>2019년도 2학기 (2019-08-27)</td>\n",
              "    </tr>\n",
              "    <tr>\n",
              "      <th>21</th>\n",
              "      <td>2020-02-17</td>\n",
              "      <td>1094</td>\n",
              "      <td>2학년 이상 수강신청</td>\n",
              "      <td>2020년도 1학기</td>\n",
              "      <td>2020년도 1학기 2학년 이상 수강신청</td>\n",
              "      <td>연세대</td>\n",
              "      <td>2020년도 1학기 (2020-02-17)</td>\n",
              "    </tr>\n",
              "  </tbody>\n",
              "</table>\n",
              "</div>"
            ],
            "text/plain": [
              "            날짜  서버시간hits수  ...   학교                    시기+날짜\n",
              "0   2019-02-19      12686  ...  고려대  2019년도 1학기 (2019-02-19)\n",
              "1   2019-02-20      22754  ...  고려대  2019년도 1학기 (2019-02-20)\n",
              "2   2019-02-21      32344  ...  고려대  2019년도 1학기 (2019-02-21)\n",
              "3   2019-02-22       1975  ...  고려대  2019년도 1학기 (2019-02-22)\n",
              "4   2019-03-06      13125  ...  고려대  2019년도 1학기 (2019-03-06)\n",
              "5   2019-03-07      22943  ...  고려대  2019년도 1학기 (2019-03-07)\n",
              "6   2019-03-08      32429  ...  고려대  2019년도 1학기 (2019-03-08)\n",
              "7   2019-08-16      11659  ...  고려대  2019년도 2학기 (2019-08-16)\n",
              "8   2019-08-19      24316  ...  고려대  2019년도 2학기 (2019-08-19)\n",
              "9   2019-08-20      30784  ...  고려대  2019년도 2학기 (2019-08-20)\n",
              "10  2019-08-21      27870  ...  고려대  2019년도 2학기 (2019-08-21)\n",
              "11  2019-09-08      13003  ...  고려대  2019년도 2학기 (2019-09-08)\n",
              "12  2019-09-09      23679  ...  고려대  2019년도 2학기 (2019-09-09)\n",
              "13  2019-09-10      33551  ...  고려대  2019년도 2학기 (2019-09-10)\n",
              "14  2020-02-18      43348  ...  고려대  2020년도 1학기 (2020-02-18)\n",
              "15  2019-02-11        811  ...  연세대  2019년도 1학기 (2019-02-11)\n",
              "16  2019-02-14       9005  ...  연세대  2019년도 1학기 (2019-02-14)\n",
              "17  2019-02-26      18336  ...  연세대  2019년도 1학기 (2019-02-26)\n",
              "18  2019-08-07       1415  ...  연세대  2019년도 2학기 (2019-08-07)\n",
              "19  2019-08-12       8896  ...  연세대  2019년도 2학기 (2019-08-12)\n",
              "20  2019-08-27      21772  ...  연세대  2019년도 2학기 (2019-08-27)\n",
              "21  2020-02-17       1094  ...  연세대  2020년도 1학기 (2020-02-17)\n",
              "\n",
              "[22 rows x 7 columns]"
            ]
          },
          "metadata": {
            "tags": []
          },
          "execution_count": 80
        }
      ]
    },
    {
      "cell_type": "markdown",
      "metadata": {
        "id": "IIGopOH4USkF",
        "colab_type": "text"
      },
      "source": [
        "# 고려대 4학년 수강신청날짜에 네이비즘 서버시간 hits한 횟수를 나타내는 그래프 그리기"
      ]
    },
    {
      "cell_type": "code",
      "metadata": {
        "id": "exhsKyok_nJP",
        "colab_type": "code",
        "colab": {}
      },
      "source": [
        "data_4학년_고려대 = data[(data.종류 == '4학년 수강신청') & (data.학교 == '고려대')]\n",
        "data_4학년_고려대.set_index('시기+날짜', inplace = True)``"
      ],
      "execution_count": 0,
      "outputs": []
    },
    {
      "cell_type": "code",
      "metadata": {
        "id": "8Xunnsa_amBY",
        "colab_type": "code",
        "colab": {
          "base_uri": "https://localhost:8080/",
          "height": 105
        },
        "outputId": "3d9f5463-472e-49a2-d123-d4c9901c3482"
      },
      "source": [
        "data_4학년_고려대['서버시간hits수']"
      ],
      "execution_count": 109,
      "outputs": [
        {
          "output_type": "execute_result",
          "data": {
            "text/plain": [
              "시기+날짜\n",
              "2019년도 1학기 (2019-02-19)    12686\n",
              "2019년도 2학기 (2019-08-16)    11659\n",
              "2020년도 1학기 (2020-02-18)    43348\n",
              "Name: 서버시간hits수, dtype: int64"
            ]
          },
          "metadata": {
            "tags": []
          },
          "execution_count": 109
        }
      ]
    },
    {
      "cell_type": "code",
      "metadata": {
        "id": "Fc386XYGn9Iq",
        "colab_type": "code",
        "colab": {
          "base_uri": "https://localhost:8080/",
          "height": 282
        },
        "outputId": "03ec1c25-2c42-4c27-a882-b4cff50e8334"
      },
      "source": [
        "plt.title('4학년 수강신청 서버시간 hits수')\n",
        "plt.grid(True)\n",
        "plt.plot(data_4학년_고려대['서버시간hits수'], marker = 'o' )\n",
        "plt.savefig('4학년_수강신청_서버시간_hits수.jpg')"
      ],
      "execution_count": 140,
      "outputs": [
        {
          "output_type": "display_data",
          "data": {
            "image/png": "[encoded data removed]",
            "text/plain": [
              "<Figure size 432x288 with 1 Axes>"
            ]
          },
          "metadata": {
            "tags": [],
            "image/png": {
              "width": 455,
              "height": 265
            }
          }
        }
      ]
    },
    {
      "cell_type": "markdown",
      "metadata": {
        "id": "0sRlD8mwiORq",
        "colab_type": "text"
      },
      "source": [
        "## 고려대와 연세대 수강신청날짜에 네이비즘 서버시간 hits한 횟수를 비교하는 그래프 그리기"
      ]
    },
    {
      "cell_type": "code",
      "metadata": {
        "id": "OlNqrBnQefjK",
        "colab_type": "code",
        "colab": {
          "base_uri": "https://localhost:8080/",
          "height": 260
        },
        "outputId": "10a5e2e1-029e-4f44-bc0b-34caf4b35fdd"
      },
      "source": [
        "data_group = data.groupby(['학교', '시기'])['서버시간hits수'].sum()\n",
        "data_group = data_group.reset_index(level= 0)\n",
        "data_group"
      ],
      "execution_count": 132,
      "outputs": [
        {
          "output_type": "execute_result",
          "data": {
            "text/html": [
              "<div>\n",
              "<style scoped>\n",
              "    .dataframe tbody tr th:only-of-type {\n",
              "        vertical-align: middle;\n",
              "    }\n",
              "\n",
              "    .dataframe tbody tr th {\n",
              "        vertical-align: top;\n",
              "    }\n",
              "\n",
              "    .dataframe thead th {\n",
              "        text-align: right;\n",
              "    }\n",
              "</style>\n",
              "<table border=\"1\" class=\"dataframe\">\n",
              "  <thead>\n",
              "    <tr style=\"text-align: right;\">\n",
              "      <th></th>\n",
              "      <th>학교</th>\n",
              "      <th>서버시간hits수</th>\n",
              "    </tr>\n",
              "    <tr>\n",
              "      <th>시기</th>\n",
              "      <th></th>\n",
              "      <th></th>\n",
              "    </tr>\n",
              "  </thead>\n",
              "  <tbody>\n",
              "    <tr>\n",
              "      <th>2019년도 1학기</th>\n",
              "      <td>고려대</td>\n",
              "      <td>138256</td>\n",
              "    </tr>\n",
              "    <tr>\n",
              "      <th>2019년도 2학기</th>\n",
              "      <td>고려대</td>\n",
              "      <td>164862</td>\n",
              "    </tr>\n",
              "    <tr>\n",
              "      <th>2020년도 1학기</th>\n",
              "      <td>고려대</td>\n",
              "      <td>43348</td>\n",
              "    </tr>\n",
              "    <tr>\n",
              "      <th>2019년도 1학기</th>\n",
              "      <td>연세대</td>\n",
              "      <td>28152</td>\n",
              "    </tr>\n",
              "    <tr>\n",
              "      <th>2019년도 2학기</th>\n",
              "      <td>연세대</td>\n",
              "      <td>32083</td>\n",
              "    </tr>\n",
              "    <tr>\n",
              "      <th>2020년도 1학기</th>\n",
              "      <td>연세대</td>\n",
              "      <td>1094</td>\n",
              "    </tr>\n",
              "  </tbody>\n",
              "</table>\n",
              "</div>"
            ],
            "text/plain": [
              "             학교  서버시간hits수\n",
              "시기                        \n",
              "2019년도 1학기  고려대     138256\n",
              "2019년도 2학기  고려대     164862\n",
              "2020년도 1학기  고려대      43348\n",
              "2019년도 1학기  연세대      28152\n",
              "2019년도 2학기  연세대      32083\n",
              "2020년도 1학기  연세대       1094"
            ]
          },
          "metadata": {
            "tags": []
          },
          "execution_count": 132
        }
      ]
    },
    {
      "cell_type": "code",
      "metadata": {
        "id": "sibaK5MdfS07",
        "colab_type": "code",
        "colab": {
          "base_uri": "https://localhost:8080/",
          "height": 300
        },
        "outputId": "74eb8223-84d0-4998-e20a-8b73c48b62b6"
      },
      "source": [
        "# data to plot\n",
        "n_periods = 3\n",
        "고려대_hits수 = data_group[data_group['학교'] == '고려대']['서버시간hits수']\n",
        "연세대_hits수 = data_group[data_group['학교'] == '연세대']['서버시간hits수']\n",
        "\n",
        "# create plot\n",
        "fig, ax = plt.subplots()\n",
        "index = np.arange(n_periods)\n",
        "bar_width = 0.35\n",
        "opacity = 0.8\n",
        "\n",
        "rects1 = plt.bar(index, 고려대_hits수, bar_width,\n",
        "alpha=opacity,\n",
        "color='b',\n",
        "label='고려대')\n",
        "\n",
        "rects2 = plt.bar(index + bar_width, 연세대_hits수, bar_width,\n",
        "alpha=opacity,\n",
        "color='g',\n",
        "label='연세대')\n",
        "\n",
        "plt.xlabel('수강신청 해당 학기')\n",
        "plt.ylabel('네이비즘 수강신청 서버시간 hits수 합')\n",
        "plt.title('고려대 연세대 수강신청 서버시간 hits수 비교')\n",
        "plt.xticks(index + bar_width, ('2019년도 1학기', '2019년도 2학기', '2020년도 1학기'))\n",
        "plt.legend()\n",
        "\n",
        "\n",
        "plt.tight_layout()\n",
        "plt.savefig('고려대_연세대_수강신청_서버시간_hits수비교.jpg')\n",
        "plt.show()"
      ],
      "execution_count": 133,
      "outputs": [
        {
          "output_type": "display_data",
          "data": {
            "image/png": "[encoded data removed]",
            "text/plain": [
              "<Figure size 432x288 with 1 Axes>"
            ]
          },
          "metadata": {
            "tags": [],
            "image/png": {
              "width": 425,
              "height": 283
            }
          }
        }
      ]
    },
    {
      "cell_type": "code",
      "metadata": {
        "id": "UMPUbD5DibRL",
        "colab_type": "code",
        "colab": {}
      },
      "source": [
        ""
      ],
      "execution_count": 0,
      "outputs": []
    }
  ]
}